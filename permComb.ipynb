{
  "nbformat": 4,
  "nbformat_minor": 0,
  "metadata": {
    "colab": {
      "name": "permComb.ipynb",
      "provenance": [],
      "collapsed_sections": [],
      "authorship_tag": "ABX9TyNIBX/2bKZTAhyjSMCfnsIn",
      "include_colab_link": true
    },
    "kernelspec": {
      "name": "python3",
      "display_name": "Python 3"
    },
    "language_info": {
      "name": "python"
    }
  },
  "cells": [
    {
      "cell_type": "markdown",
      "metadata": {
        "id": "view-in-github",
        "colab_type": "text"
      },
      "source": [
        "<a href=\"https://colab.research.google.com/github/alibizhan/comb_perm/blob/master/permComb.ipynb\" target=\"_parent\"><img src=\"https://colab.research.google.com/assets/colab-badge.svg\" alt=\"Open In Colab\"/></a>"
      ]
    },
    {
      "cell_type": "markdown",
      "source": [
        "#Combinations and Permutations\n",
        "\n",
        "![permutation-vs-combination.jpg](data:image/jpeg;base64,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)\n",
        "\n",
        "* When the order doesn't matter, it is a Combination.\n",
        "* When the order does matter it is a Permutation.\n",
        "\n",
        "### Permutations\n",
        "There are basically two types of permutation:\n",
        "\n",
        "* Repetition is Allowed\n",
        "* No Repetition\n",
        "\n",
        "#### Formula:\n",
        "$nP_r = \\frac{n!}{(n−r)!}$\n",
        "\n",
        "where $n$ is the number of things to choose from, and we choose $r$ of them, no repetition, order doesn't matter.\n",
        "\n",
        "### Combinations\n",
        "There are also two types of combinations (order does not matter now):\n",
        "\n",
        "* Repetition is Allowed: such as coins in your pocket (5,5,5,10,10)\n",
        "* No Repetition: such as lottery numbers (2,14,15,27,30,33)\n",
        "\n",
        "#### Formula:\n",
        "$nC_r = \\frac{n!}{r!(n−r)!}$"
      ],
      "metadata": {
        "id": "lsIsln2nCkYP"
      }
    },
    {
      "cell_type": "markdown",
      "source": [
        "###Question: \n",
        "How many ways are there for 8 men and 5 women to stand in a line so that no two\n",
        "women stand next to each other?\n",
        "\n",
        "###Solution: \n",
        "How many possible ways are there to arrange eight men in a row? It will \n",
        "be $ ^{8} P_8=8!=40320 $\n",
        "\n",
        "Now as no two women stand next to each other, we can imagine the situation as\n",
        "\n",
        "                   * M * M * M * M * M * M * M * M *\n",
        "Hence, we need to find how many ways we can arrange 5 women in the 9 possible (as shown above) places, this is actually $ ^{9} P_5 = 9∗8∗7∗6∗5=15120 $\n",
        "\n",
        "Now applying the fundamental law of counting (precisely product rule), total number of possible arrangements satisfying both constraints is: $15120∗40320=609638400$"
      ],
      "metadata": {
        "id": "JCx6wOMKf6MM"
      }
    },
    {
      "cell_type": "code",
      "source": [
        "def fact(num):\n",
        "  factorial = 1\n",
        "  for i in range(1,num + 1):\n",
        "    factorial = factorial*i\n",
        "  return factorial\n",
        "\n",
        "p8_8 = fact(8)/fact(8-8)\n",
        "print(\"possible ways to arrange eight men in a row: \"+str(p8_8))\n",
        "\n",
        "p9_5 = fact(9)/fact(9-5)\n",
        "print(\"arrange 5 women in the 9 possible places: \"+str(p9_5))\n",
        "\n",
        "result = p8_8*p9_5\n",
        "print(\"\\ntotal number of possible arrangements: \"+str(result))"
      ],
      "metadata": {
        "colab": {
          "base_uri": "https://localhost:8080/"
        },
        "id": "dEyga5Wig3dj",
        "outputId": "1817ce13-62b6-4983-bb10-9404e472bac5"
      },
      "execution_count": 4,
      "outputs": [
        {
          "output_type": "stream",
          "name": "stdout",
          "text": [
            "possible ways to arrange eight men in a row: 40320.0\n",
            "arrange 5 women in the 9 possible places: 15120.0\n",
            "\n",
            "total number of possible arrangements: 609638400.0\n"
          ]
        }
      ]
    },
    {
      "cell_type": "markdown",
      "source": [
        "###Question: \n",
        "How many squares are there on an $8×8$ chess board?\n",
        "\n",
        "###Solution: \n",
        "$Total Squares = \\sum_{i=1}^{8}x_i^2=204$"
      ],
      "metadata": {
        "id": "lDuKsZctof0J"
      }
    },
    {
      "cell_type": "code",
      "source": [
        "totalSquares = 0\n",
        "for i in range(1,9):\n",
        "    totalSquares+=i**2\n",
        "\n",
        "print(totalSquares)"
      ],
      "metadata": {
        "colab": {
          "base_uri": "https://localhost:8080/"
        },
        "id": "ZBE6F0f8o3as",
        "outputId": "d52daf62-0486-43ea-d3c2-e42b92705203"
      },
      "execution_count": 12,
      "outputs": [
        {
          "output_type": "stream",
          "name": "stdout",
          "text": [
            "204\n"
          ]
        }
      ]
    }
  ]
}